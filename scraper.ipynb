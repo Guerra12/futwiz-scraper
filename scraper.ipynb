import requests
from bs4 import BeautifulSoup
import re

i = 0
for i in range(0, 12):
    i = i + 1
    request_result=requests.get("https://www.futwiz.com/en/fifa21/players?page=" + str(i) + "&release=icons")
    src = request_result.content
    soup = BeautifulSoup(src, features="html.parser")


    results = soup.find("table", class_="table results playersearchresults")

    # Gets all the names and stores them in a file
    names = results.select('a b')
    with open("names.txt", "a+") as f:
    
        for name in names:
            data = name.get_text()
            f.write("\n")
            f.write(data)            

    # Gets all the OVR values and stores them in a file
    OVR_values = results.select('div .otherversion21-txt')
    with open("OVR.txt", "a+") as f:
        for OVR_value in OVR_values:
            data = OVR_value.get_text()
            f.write("\n")
            f.write(data)
